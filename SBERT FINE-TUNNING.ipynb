{
 "cells": [
  {
   "cell_type": "code",
   "execution_count": null,
   "metadata": {},
   "outputs": [],
   "source": [
    "from torch.utils.data import DataLoader\n",
    "import pandas as pd\n",
    "import re\n",
    "from sentence_transformers import SentenceTransformer, InputExample, models, evaluation, losses\n",
    "from sklearn.preprocessing import MinMaxScaler\n",
    "from sklearn.utils import shuffle"
   ]
  },
  {
   "cell_type": "markdown",
   "metadata": {},
   "source": [
    "# Obtendo os dados"
   ]
  },
  {
   "cell_type": "code",
   "execution_count": null,
   "metadata": {},
   "outputs": [],
   "source": [
    "# Lendo e salvando para CSV\n",
    "def obter_dados_csv():\n",
    "    df_dados = pd.read_csv('dados.csv')\n",
    "    df_dados.to_csv('dados.csv', index=False, encoding='utf-8')\n",
    "    return df_dados"
   ]
  },
  {
   "cell_type": "code",
   "execution_count": null,
   "metadata": {},
   "outputs": [],
   "source": [
    "df_dados = obter_dados_csv()\n",
    "df_dados"
   ]
  },
  {
   "cell_type": "markdown",
   "metadata": {},
   "source": [
    "# Removendo os dígitos"
   ]
  },
  {
   "cell_type": "code",
   "execution_count": null,
   "metadata": {},
   "outputs": [],
   "source": [
    "df_dados[\"curriculos\"] = df_dados[\"curriculos\"].apply(lambda x: re.sub('\\d+', '', x))\n",
    "df_dados[\"vagas\"] = df_dados[\"vagas\"].apply(lambda x: re.sub('\\d+', '', x))"
   ]
  },
  {
   "cell_type": "markdown",
   "metadata": {},
   "source": [
    "# Transformando as notas em scores de similaridade"
   ]
  },
  {
   "cell_type": "code",
   "execution_count": null,
   "metadata": {},
   "outputs": [],
   "source": [
    "min_max_scaler = MinMaxScaler()\n",
    "min_max_scaler.set_output(transform='pandas');"
   ]
  },
  {
   "cell_type": "code",
   "execution_count": null,
   "metadata": {},
   "outputs": [],
   "source": [
    "df_dados[\"notas\"] = min_max_scaler.fit_transform(df_dados[\"notas\"].values.reshape(-1, 1))\n",
    "# 1 -> 0.00\n",
    "# 2 -> 0.25\n",
    "# 3 -> 0.50\n",
    "# 4 -> 0.75\n",
    "# 5 -> 1.00\n",
    "df_dados"
   ]
  },
  {
   "cell_type": "markdown",
   "metadata": {},
   "source": [
    "# Preparando os dados para treinamento"
   ]
  },
  {
   "cell_type": "code",
   "execution_count": null,
   "metadata": {},
   "outputs": [],
   "source": [
    "data_examples = []\n",
    "for index, row in df_dados.iterrows():\n",
    "    data_examples.append(InputExample(texts=[row['curriculos'], row['vagas']], label=row['notas']))\n",
    "\n",
    "# Dividindo os dados em 80% treino, 20% validação e 20% para testes\n",
    "data_examples = shuffle(data_examples, random_state=42)\n",
    "indice_treino = int(len(data_examples) * 0.6)\n",
    "indice_val = int(len(data_examples) * 0.2)\n",
    "\n",
    "train_examples = data_examples[:indice_treino]\n",
    "val_examples = data_examples[indice_treino:indice_treino+indice_val]\n",
    "test_examples = data_examples[indice_treino+indice_val:]\n",
    "\n",
    "# Criando os Dataloaders do PyTorch\n",
    "train_dataloader = DataLoader(train_examples, shuffle=True, batch_size=4)"
   ]
  },
  {
   "cell_type": "markdown",
   "metadata": {},
   "source": [
    "# Treinamento"
   ]
  },
  {
   "cell_type": "code",
   "execution_count": null,
   "metadata": {},
   "outputs": [],
   "source": [
    "checkpoint = 'sentence-transformers/paraphrase-multilingual-MiniLM-L12-v2'\n",
    "\n",
    "word_embedding_model = models.Transformer(checkpoint, cache_dir=f'model/{checkpoint}')\n",
    "pooling_model = models.Pooling(word_embedding_model.get_word_embedding_dimension(), pooling_mode='cls')\n",
    "model = SentenceTransformer(modules=[word_embedding_model, pooling_model])\n",
    "\n",
    "train_loss = losses.CosineSimilarityLoss(model)\n",
    "\n",
    "evaluator = evaluation.EmbeddingSimilarityEvaluator.from_input_examples(val_examples, name='sbert')\n",
    "\n",
    "model.fit(train_objectives=[(train_dataloader, train_loss)], epochs=5, evaluator=evaluator, show_progress_bar=True, output_path=f'model_FT/{checkpoint}')"
   ]
  },
  {
   "cell_type": "markdown",
   "metadata": {},
   "source": [
    "# Testando um sistema de recomendação de vagas para um currículo"
   ]
  },
  {
   "cell_type": "markdown",
   "metadata": {},
   "source": [
    "test_curriculo = 'Nome: Laura Costa - Objetivo: Busco uma posição como Analista Econômico, onde posso aplicar minha formação acadêmica em Economia e aprimorar minhas habilidades em análise econômica. Formação Acadêmica: Bacharelado em Economia - Universidade Federal de Estado Y (-) Experiência Profissional: Assistente de Análise Econômica - Empresa de Consultoria Econômica LTDA - Cidade Financeira, Estado Y (-Presente) Coleta de dados econômicos. Auxílio na elaboração de relatórios e análises. Habilidades: Conhecimentos intermediários em análise econômica. Familiaridade com ferramentas como Excel e SPSS. Idiomas: Inglês: Avançado Espanhol: Básico'\n",
    "\n",
    "test_vagas = list(set([test_example.texts[1] for test_example in test_examples]))"
   ]
  },
  {
   "cell_type": "code",
   "execution_count": null,
   "metadata": {},
   "outputs": [],
   "source": [
    "embedding_curriculos = model.encode(test_curriculo)\n",
    "embedding_vagas = [model.encode(vaga) for vaga in test_vagas]\n",
    "scores_similaridade = util.cos_sim(embedding_curriculos, embedding_vagas)"
   ]
  },
  {
   "cell_type": "code",
   "execution_count": null,
   "metadata": {},
   "outputs": [],
   "source": [
    "# Encontrando os pares curriculo-vaga com as maiores similaridades de cosseno\n",
    "pares = []\n",
    "for index, score in enumerate(scores_similaridade[0]):\n",
    "    pares.append({\"index\": index, \"score\": score})\n",
    "\n",
    "# Ordena os pares pelos scores na ordem decrescente\n",
    "pares = sorted(pares, key=lambda x: x[\"score\"], reverse=True)"
   ]
  },
  {
   "cell_type": "code",
   "execution_count": null,
   "metadata": {},
   "outputs": [],
   "source": [
    "print(f' Currículo: {test_curriculo} \\n\\n')\n",
    "for par in pares[0:5]:\n",
    "    print(f' Vaga: {test_vagas[par[\"index\"]]} \\n Similaridade predita após o ajuste fino: {par[\"score\"]} \\n')"
   ]
  }
 ],
 "metadata": {
  "kernelspec": {
   "display_name": "Python 3",
   "language": "python",
   "name": "python3"
  },
  "language_info": {
   "codemirror_mode": {
    "name": "ipython",
    "version": 3
   },
   "file_extension": ".py",
   "mimetype": "text/x-python",
   "name": "python",
   "nbconvert_exporter": "python",
   "pygments_lexer": "ipython3",
   "version": "3.10.0"
  }
 },
 "nbformat": 4,
 "nbformat_minor": 2
}
